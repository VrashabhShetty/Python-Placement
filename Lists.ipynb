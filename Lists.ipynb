{
  "cells": [
    {
      "cell_type": "markdown",
      "metadata": {
        "id": "view-in-github",
        "colab_type": "text"
      },
      "source": [
        "<a href=\"https://colab.research.google.com/github/VrashabhShetty/Python-Placement/blob/main/Lists.ipynb\" target=\"_parent\"><img src=\"https://colab.research.google.com/assets/colab-badge.svg\" alt=\"Open In Colab\"/></a>"
      ]
    },
    {
      "cell_type": "code",
      "execution_count": null,
      "metadata": {
        "id": "OmYvRB55PAj5"
      },
      "outputs": [],
      "source": [
        "#create 5 lists"
      ]
    },
    {
      "cell_type": "code",
      "execution_count": null,
      "metadata": {
        "colab": {
          "base_uri": "https://localhost:8080/"
        },
        "id": "7mKrTjZ8e3xU",
        "outputId": "2298377a-9119-4e18-a962-682291369ca2"
      },
      "outputs": [
        {
          "name": "stdout",
          "output_type": "stream",
          "text": [
            "['J', 'a', 'c', 'k']\n",
            "['Jack', 'John']\n",
            "apple\n",
            "['apple', 'banana', 'cherry', 'mango']\n",
            "['apple', 'banana', 'cherry', 'mango']\n",
            "['apple', 'banana', 'cherry', 'mango']\n",
            "['apple', 'banana', 'cherry', 'mango']\n",
            "['apple', 'banana', 'cherry']\n",
            "[]\n",
            "4\n",
            "<class 'list'>\n",
            "<class 'str'>\n",
            "Exists\n",
            "['apple', 'kiwi', 'cherry', 'mango']\n",
            "['apple', 'Pineapple', 'Dates', 'x', 'mango']\n"
          ]
        }
      ],
      "source": [
        "l1=[\"apple\",\"banana\",\"cherry\",\"mango\"]\n",
        "l2=[10,20,30,40]\n",
        "l3=[True,False]\n",
        "\n",
        "l4=list((\"Jack\"))\n",
        "l5=list((\"Jack\",\"John\"))\n",
        "\n",
        "print(l4)\n",
        "print(l5)\n",
        "print(l1[0])\n",
        "print(l1[0:4])\n",
        "print(l1[:4])\n",
        "print(l1[0:])\n",
        "print(l1[:])\n",
        "\n",
        "#starting index should be less than or equal to\n",
        "print(l1[-4:-1])\n",
        "print(l1[-1:-4])\n",
        "x=len(l1)\n",
        "print(x)\n",
        "print(type(l1))\n",
        "print(type(l1[0]))\n",
        "if \"apple\" in l1:\n",
        "  print(\"Exists\")\n",
        "\n",
        "l1[1]=\"kiwi\"\n",
        "print(l1)\n",
        "l1[1:3]=[\"Pineapple\",\"Dates\",\"x\"]\n",
        "print(l1)"
      ]
    },
    {
      "cell_type": "code",
      "execution_count": null,
      "metadata": {
        "id": "PZUE0BZkfiFJ"
      },
      "outputs": [],
      "source": [
        "#if you insert more items than you replace"
      ]
    },
    {
      "cell_type": "code",
      "execution_count": null,
      "metadata": {
        "colab": {
          "base_uri": "https://localhost:8080/"
        },
        "id": "MUVR6zoWiJsg",
        "outputId": "a637307a-23cc-4a09-8cf7-d45d9b7f7b8b"
      },
      "outputs": [
        {
          "name": "stdout",
          "output_type": "stream",
          "text": [
            "['apple', 'blackcurrant', 'watermelon']\n"
          ]
        }
      ],
      "source": [
        "list=[\"apple\",\"banana\",\"cherry\"]\n",
        "list[1:3]=[\"blackcurrant\",\"watermelon\"]\n",
        "print(list)"
      ]
    },
    {
      "cell_type": "code",
      "execution_count": null,
      "metadata": {
        "id": "sdBgmqKKjAwX"
      },
      "outputs": [],
      "source": [
        "#if you insert less items than you replace"
      ]
    },
    {
      "cell_type": "code",
      "execution_count": null,
      "metadata": {
        "colab": {
          "base_uri": "https://localhost:8080/"
        },
        "id": "YaH7hTKvjVny",
        "outputId": "e841829b-8ee7-4c6d-de8c-b59f50314e97"
      },
      "outputs": [
        {
          "name": "stdout",
          "output_type": "stream",
          "text": [
            "['apple', 'watermelon']\n"
          ]
        }
      ],
      "source": [
        "list=[\"apple\",\"banana\",\"cherry\"]\n",
        "list[1:3]=[\"watermelon\"]\n",
        "print(list)"
      ]
    },
    {
      "cell_type": "code",
      "execution_count": null,
      "metadata": {
        "colab": {
          "base_uri": "https://localhost:8080/"
        },
        "id": "5BBorKH-jb9B",
        "outputId": "6046f5a8-1e86-457a-f300-3a0638a40d49"
      },
      "outputs": [
        {
          "name": "stdout",
          "output_type": "stream",
          "text": [
            "['apple', 'banana', 'watermelon', 'cherry']\n"
          ]
        }
      ],
      "source": [
        " #insert() method inserts an item at the specific index position\n",
        " list=[\"apple\",\"banana\",\"cherry\"]\n",
        " list.insert(2,\"watermelon\")\n",
        " print(list)"
      ]
    },
    {
      "cell_type": "code",
      "execution_count": null,
      "metadata": {
        "colab": {
          "base_uri": "https://localhost:8080/"
        },
        "id": "vjmCNYVekWGk",
        "outputId": "ed97b598-1b06-426f-8a4d-809a4e71f4e2"
      },
      "outputs": [
        {
          "name": "stdout",
          "output_type": "stream",
          "text": [
            "['apple', 'banana', 'cherry', 'mango', 'pineapple', 'papaya']\n"
          ]
        }
      ],
      "source": [
        "#to add an item to the end of the list\n",
        "list1=[\"apple\",\"banana\",\"cherry\"]\n",
        "list2=[\"mango\",\"pineapple\",\"papaya\"]\n",
        "list1.extend(list2)\n",
        "print(list1)"
      ]
    },
    {
      "cell_type": "code",
      "execution_count": null,
      "metadata": {
        "colab": {
          "base_uri": "https://localhost:8080/"
        },
        "id": "1Rf_WFousC-5",
        "outputId": "8f3a8a3a-e22d-45ef-f906-801608a7f7cd"
      },
      "outputs": [
        {
          "name": "stdout",
          "output_type": "stream",
          "text": [
            "['apple', 'cherry']\n"
          ]
        }
      ],
      "source": [
        "#pop() method removes the specified index\n",
        "thislist=[\"apple\",\"banana\",\"cherry\"]\n",
        "thislist.pop(1)\n",
        "print(thislist)"
      ]
    },
    {
      "cell_type": "code",
      "execution_count": null,
      "metadata": {
        "colab": {
          "base_uri": "https://localhost:8080/"
        },
        "id": "DGbK8oBPtAac",
        "outputId": "5ebbdc72-20e0-46ca-836d-faca7a093a9c"
      },
      "outputs": [
        {
          "name": "stdout",
          "output_type": "stream",
          "text": [
            "['banana', 'cherry']\n"
          ]
        }
      ],
      "source": [
        "#del keyword also removes the specified index\n",
        "thislist=[\"apple\",\"banana\",\"cherry\"]\n",
        "del thislist[0]\n",
        "print(thislist)"
      ]
    },
    {
      "cell_type": "code",
      "execution_count": null,
      "metadata": {
        "id": "aJffLDB6tyR-"
      },
      "outputs": [],
      "source": [
        "thislist=[\"apple\",\"banana\",\"cherry\"]\n",
        "del thislist"
      ]
    },
    {
      "cell_type": "code",
      "execution_count": null,
      "metadata": {
        "colab": {
          "base_uri": "https://localhost:8080/"
        },
        "id": "-s7k4KSQt0jY",
        "outputId": "5eb2adf3-de71-4043-f925-90115f0b696d"
      },
      "outputs": [
        {
          "name": "stdout",
          "output_type": "stream",
          "text": [
            "[]\n"
          ]
        }
      ],
      "source": [
        "#clear method empties the list\n",
        "thislist=[\"apple\",\"banana\",\"cherry\"]\n",
        "thislist.clear()\n",
        "print(thislist)"
      ]
    },
    {
      "cell_type": "code",
      "execution_count": null,
      "metadata": {
        "colab": {
          "base_uri": "https://localhost:8080/"
        },
        "id": "4eGY6IKVuTbK",
        "outputId": "6b1afbde-55e6-422d-cf1b-bbd061a8a549"
      },
      "outputs": [
        {
          "name": "stdout",
          "output_type": "stream",
          "text": [
            "apple\n",
            "banana\n",
            "cherry\n"
          ]
        }
      ],
      "source": [
        "#print all items by index number\n",
        "thislist=[\"apple\",\"banana\",\"cherry\"]\n",
        "for i in range(len(thislist)):\n",
        "  print(thislist[i])"
      ]
    },
    {
      "cell_type": "code",
      "execution_count": null,
      "metadata": {
        "colab": {
          "base_uri": "https://localhost:8080/"
        },
        "id": "O7qZolvIufWi",
        "outputId": "aadf3fe5-7961-4ea9-c773-b1f4e1988f15"
      },
      "outputs": [
        {
          "name": "stdout",
          "output_type": "stream",
          "text": [
            "apple\n",
            "banana\n",
            "cherry\n"
          ]
        }
      ],
      "source": [
        "#while loop\n",
        "thislist=[\"apple\",\"banana\",\"cherry\"]\n",
        "i=0\n",
        "while i<len(thislist):\n",
        "  print(thislist[i])\n",
        "  i=i+1"
      ]
    },
    {
      "cell_type": "code",
      "execution_count": null,
      "metadata": {
        "colab": {
          "base_uri": "https://localhost:8080/"
        },
        "id": "CEjW5RzTu1OP",
        "outputId": "e0b5d2c2-f4dd-478c-f7dd-619c88ff1827"
      },
      "outputs": [
        {
          "name": "stdout",
          "output_type": "stream",
          "text": [
            "apple\n",
            "banana\n",
            "cherry\n"
          ]
        },
        {
          "data": {
            "text/plain": [
              "[None, None, None]"
            ]
          },
          "execution_count": 23,
          "metadata": {},
          "output_type": "execute_result"
        }
      ],
      "source": [
        "#List Comprehensions\n",
        "#newlist=[expression for item in iterable loop statement cond==true]\n",
        "thislist=[\"apple\",\"banana\",\"cherry\"]\n",
        "[print(x) for x in thislist]"
      ]
    },
    {
      "cell_type": "code",
      "execution_count": null,
      "metadata": {
        "colab": {
          "base_uri": "https://localhost:8080/"
        },
        "id": "wuTrtP29wcn3",
        "outputId": "832dc1ae-2755-49a5-94cd-cdcf32c2d2d9"
      },
      "outputs": [
        {
          "name": "stdout",
          "output_type": "stream",
          "text": [
            "['apple', 'banana', 'mango']\n"
          ]
        }
      ],
      "source": [
        "#Based on a list of fruits you want a new list containing\n",
        "fruits=[\"apple\",\"banana\",\"cherry\",\"kiwi\",\"mango\"]\n",
        "newlist=[]\n",
        "for x in fruits:\n",
        "    if \"a\" in x:\n",
        "        newlist.append(x)\n",
        "print(newlist)"
      ]
    },
    {
      "cell_type": "code",
      "execution_count": null,
      "metadata": {
        "colab": {
          "base_uri": "https://localhost:8080/"
        },
        "id": "B2G6ZV5HxVzO",
        "outputId": "b08d9373-dda4-4d62-cfaa-f85579277fa5"
      },
      "outputs": [
        {
          "name": "stdout",
          "output_type": "stream",
          "text": [
            "['apple', 'banana', 'mango']\n"
          ]
        }
      ],
      "source": [
        "fruits=[\"apple\",\"banana\",\"cherry\",\"kiwi\",\"mango\"]\n",
        "newlist=[x for x in fruits if \"a\" in x]\n",
        "\n",
        "print(newlist)"
      ]
    },
    {
      "cell_type": "code",
      "execution_count": null,
      "metadata": {
        "colab": {
          "base_uri": "https://localhost:8080/"
        },
        "id": "-OlJdS9Xx_6I",
        "outputId": "e5129403-c13b-4057-93aa-ccca9694ce22"
      },
      "outputs": [
        {
          "name": "stdout",
          "output_type": "stream",
          "text": [
            "[23, 50, 65, 82, 100]\n"
          ]
        }
      ],
      "source": [
        "#Sort the list numerically:\n",
        "thislist=[100,50,65,82,23]\n",
        "thislist.sort()\n",
        "print(thislist)"
      ]
    },
    {
      "cell_type": "code",
      "execution_count": null,
      "metadata": {
        "colab": {
          "base_uri": "https://localhost:8080/"
        },
        "id": "i91J0w_YyzrS",
        "outputId": "296b6b45-6b37-40d9-cbd8-aaaadbc58ed1"
      },
      "outputs": [
        {
          "name": "stdout",
          "output_type": "stream",
          "text": [
            "['banana', 'kiwi', 'mango', 'orange', 'pineapple']\n"
          ]
        }
      ],
      "source": [
        "#Sort the list alphabetically\n",
        "thislist=[\"orange\",\"mango\",\"kiwi\",\"pineapple\",\"banana\"]\n",
        "thislist.sort()\n",
        "print(thislist)"
      ]
    },
    {
      "cell_type": "code",
      "execution_count": null,
      "metadata": {
        "colab": {
          "base_uri": "https://localhost:8080/"
        },
        "id": "IG05RtvCzcUT",
        "outputId": "8aa5d540-1a29-418b-e1d1-0f2aba8f05d5"
      },
      "outputs": [
        {
          "name": "stdout",
          "output_type": "stream",
          "text": [
            "['pineapple', 'orange', 'mango', 'kiwi', 'banana']\n"
          ]
        }
      ],
      "source": [
        "#Sort the list in reverse order alphabetically\n",
        "thislist=[\"orange\",\"mango\",\"kiwi\",\"pineapple\",\"banana\"]\n",
        "thislist.sort(reverse=True)\n",
        "print(thislist)"
      ]
    },
    {
      "cell_type": "code",
      "execution_count": null,
      "metadata": {
        "colab": {
          "base_uri": "https://localhost:8080/"
        },
        "id": "rbZ65yn-zqNB",
        "outputId": "509fd650-36a6-4886-f19b-4264ea2a2137"
      },
      "outputs": [
        {
          "name": "stdout",
          "output_type": "stream",
          "text": [
            "[100, 82, 65, 50, 23]\n"
          ]
        }
      ],
      "source": [
        "#Sort the list in reverse numerically:\n",
        "thislist=[100,50,65,82,23]\n",
        "thislist.sort(reverse=True)\n",
        "print(thislist)"
      ]
    },
    {
      "cell_type": "code",
      "execution_count": null,
      "metadata": {
        "colab": {
          "base_uri": "https://localhost:8080/"
        },
        "id": "9qgvAKcITAPf",
        "outputId": "6ad72e72-3d39-4a3d-c5fe-6d78d0b54406"
      },
      "outputs": [
        {
          "name": "stdout",
          "output_type": "stream",
          "text": [
            "3\n"
          ]
        }
      ],
      "source": [
        "#to count the number of items in a given list\n",
        "def count_occ(li,x):\n",
        "  count=0\n",
        "  for i in li:\n",
        "    if(i==x):\n",
        "      count=count+1\n",
        "  return count\n",
        "li=[10,20,40,40,10,90,70,40]\n",
        "x=40\n",
        "print(count_occ(li,x))\n"
      ]
    },
    {
      "cell_type": "code",
      "execution_count": null,
      "metadata": {
        "colab": {
          "base_uri": "https://localhost:8080/"
        },
        "id": "xHEg6QyzWL6o",
        "outputId": "8a5aa4ef-9cc1-4a1e-e679-eaf947e26730"
      },
      "outputs": [
        {
          "name": "stdout",
          "output_type": "stream",
          "text": [
            "[1, 2, 5, 7]\n",
            "No of unique items are: 4\n"
          ]
        }
      ],
      "source": [
        "#to count the unique values in a list\n",
        "l1=[1,2,5,1,5,7]\n",
        "l2=[]\n",
        "count=0\n",
        "for i in l1:\n",
        "  if i not in l2:\n",
        "    count=count+1\n",
        "    l2.append(i)\n",
        "print(l2)\n",
        "print(\"No of unique items are:\",count)"
      ]
    },
    {
      "cell_type": "code",
      "execution_count": null,
      "metadata": {
        "colab": {
          "base_uri": "https://localhost:8080/"
        },
        "id": "kewR4gwWXjr0",
        "outputId": "72901cf0-906c-4ea9-f30d-899d557e8953"
      },
      "outputs": [
        {
          "name": "stdout",
          "output_type": "stream",
          "text": [
            "The original list is: [1, 3, 5, 6, 3, 5, 6, 1]\n",
            "Duplication removal list: [1, 3, 5, 6]\n",
            "Duplication removal list product: 90\n"
          ]
        }
      ],
      "source": [
        "#find out the duplicate removal list product using list comprehension\n",
        "def d_prod(res):\n",
        "  product=1\n",
        "  for i in res:\n",
        "    product=product*i\n",
        "  return product\n",
        "l1=[1,3,5,6,3,5,6,1]\n",
        "print(\"The original list is:\",l1)\n",
        "res=[]\n",
        "[res.append(x) for x in l1 if x not in res]\n",
        "product=d_prod(res)\n",
        "print(\"Duplication removal list:\",res)\n",
        "print(\"Duplication removal list product:\",str(product))"
      ]
    },
    {
      "cell_type": "code",
      "execution_count": null,
      "metadata": {
        "colab": {
          "base_uri": "https://localhost:8080/"
        },
        "id": "C7qKu_YtbHgQ",
        "outputId": "26db4144-4166-4aba-eec6-c5a34f9e4e3f"
      },
      "outputs": [
        {
          "name": "stdout",
          "output_type": "stream",
          "text": [
            "The original list:[4, 6, 4, 3, 3, 4, 3, 7, 8, 8, 8]\n",
            "The required elements:[4, 3, 8]\n"
          ]
        }
      ],
      "source": [
        "#WAP to extract elements with a frequency greater than k\n",
        "list=[4,6,4,3,3,4,3,7,8,8,8]\n",
        "print(\"The original list:\"+str(list))\n",
        "k=2\n",
        "res=[]\n",
        "for i in list:\n",
        "  freq=list.count(i)\n",
        "  if freq>k and i not in res:\n",
        "    res.append(i)\n",
        "print(\"The required elements:\"+str(res))\n"
      ]
    },
    {
      "cell_type": "code",
      "execution_count": null,
      "metadata": {
        "colab": {
          "base_uri": "https://localhost:8080/"
        },
        "id": "l-CW1BFwd5A1",
        "outputId": "dc10c1fc-b606-471b-e032-6a6e2c67c502"
      },
      "outputs": [
        {
          "name": "stdout",
          "output_type": "stream",
          "text": [
            "The original list is:[4, 5, 6, 7, 3, 9]\n",
            "Does the list contain all elements in range:True\n"
          ]
        }
      ],
      "source": [
        "#wap to test if a list contains elements in a range\n",
        "list=[4,5,6,7,3,9]\n",
        "print(\"The original list is:\"+str(list))\n",
        "i,j=3,10\n",
        "res=True\n",
        "for i in list:\n",
        "  if i in range(i,j):\n",
        "    res=True\n",
        "  else:\n",
        "    res=False\n",
        "print(\"Does the list contain all elements in range:\"+str(res))"
      ]
    },
    {
      "cell_type": "code",
      "execution_count": null,
      "metadata": {
        "colab": {
          "base_uri": "https://localhost:8080/",
          "height": 346
        },
        "id": "LpvFC51ehpDZ",
        "outputId": "3f8c7a60-b386-4776-d4c9-c873b9fbb3a3"
      },
      "outputs": [
        {
          "ename": "TypeError",
          "evalue": "'list' object is not callable",
          "output_type": "error",
          "traceback": [
            "\u001b[0;31m---------------------------------------------------------------------------\u001b[0m",
            "\u001b[0;31mTypeError\u001b[0m                                 Traceback (most recent call last)",
            "\u001b[0;32m<ipython-input-17-9a9dd80c8044>\u001b[0m in \u001b[0;36m<cell line: 6>\u001b[0;34m()\u001b[0m\n\u001b[1;32m      4\u001b[0m \u001b[0mlist1\u001b[0m\u001b[0;34m=\u001b[0m\u001b[0;34m[\u001b[0m\u001b[0;36m10\u001b[0m\u001b[0;34m,\u001b[0m\u001b[0;36m10\u001b[0m\u001b[0;34m,\u001b[0m\u001b[0;36m20\u001b[0m\u001b[0;34m,\u001b[0m\u001b[0;36m40\u001b[0m\u001b[0;34m]\u001b[0m\u001b[0;34m\u001b[0m\u001b[0;34m\u001b[0m\u001b[0m\n\u001b[1;32m      5\u001b[0m \u001b[0mlist2\u001b[0m\u001b[0;34m=\u001b[0m\u001b[0;34m[\u001b[0m\u001b[0;36m5\u001b[0m\u001b[0;34m,\u001b[0m\u001b[0;36m10\u001b[0m\u001b[0;34m,\u001b[0m\u001b[0;36m15\u001b[0m\u001b[0;34m]\u001b[0m\u001b[0;34m\u001b[0m\u001b[0;34m\u001b[0m\u001b[0m\n\u001b[0;32m----> 6\u001b[0;31m \u001b[0mprint\u001b[0m\u001b[0;34m(\u001b[0m\u001b[0;34m\"Intersection:\"\u001b[0m\u001b[0;34m,\u001b[0m\u001b[0mlist_intersection\u001b[0m\u001b[0;34m(\u001b[0m\u001b[0mlist1\u001b[0m\u001b[0;34m,\u001b[0m\u001b[0mlist2\u001b[0m\u001b[0;34m)\u001b[0m\u001b[0;34m)\u001b[0m\u001b[0;34m\u001b[0m\u001b[0;34m\u001b[0m\u001b[0m\n\u001b[0m\u001b[1;32m      7\u001b[0m \u001b[0;34m\u001b[0m\u001b[0m\n\u001b[1;32m      8\u001b[0m \u001b[0;32mdef\u001b[0m \u001b[0mlist_union\u001b[0m\u001b[0;34m(\u001b[0m\u001b[0mlist1\u001b[0m\u001b[0;34m,\u001b[0m\u001b[0mlist2\u001b[0m\u001b[0;34m)\u001b[0m\u001b[0;34m:\u001b[0m\u001b[0;34m\u001b[0m\u001b[0;34m\u001b[0m\u001b[0m\n",
            "\u001b[0;32m<ipython-input-17-9a9dd80c8044>\u001b[0m in \u001b[0;36mlist_intersection\u001b[0;34m(list1, list2)\u001b[0m\n\u001b[1;32m      1\u001b[0m \u001b[0;31m#wap to demonstrate list intersection and union\u001b[0m\u001b[0;34m\u001b[0m\u001b[0;34m\u001b[0m\u001b[0m\n\u001b[1;32m      2\u001b[0m \u001b[0;32mdef\u001b[0m \u001b[0mlist_intersection\u001b[0m\u001b[0;34m(\u001b[0m\u001b[0mlist1\u001b[0m\u001b[0;34m,\u001b[0m\u001b[0mlist2\u001b[0m\u001b[0;34m)\u001b[0m\u001b[0;34m:\u001b[0m\u001b[0;34m\u001b[0m\u001b[0;34m\u001b[0m\u001b[0m\n\u001b[0;32m----> 3\u001b[0;31m   \u001b[0;32mreturn\u001b[0m \u001b[0mlist\u001b[0m\u001b[0;34m(\u001b[0m\u001b[0mset\u001b[0m\u001b[0;34m(\u001b[0m\u001b[0mlist1\u001b[0m\u001b[0;34m)\u001b[0m \u001b[0;34m&\u001b[0m \u001b[0mset\u001b[0m\u001b[0;34m(\u001b[0m\u001b[0mlist2\u001b[0m\u001b[0;34m)\u001b[0m\u001b[0;34m)\u001b[0m\u001b[0;34m\u001b[0m\u001b[0;34m\u001b[0m\u001b[0m\n\u001b[0m\u001b[1;32m      4\u001b[0m \u001b[0mlist1\u001b[0m\u001b[0;34m=\u001b[0m\u001b[0;34m[\u001b[0m\u001b[0;36m10\u001b[0m\u001b[0;34m,\u001b[0m\u001b[0;36m10\u001b[0m\u001b[0;34m,\u001b[0m\u001b[0;36m20\u001b[0m\u001b[0;34m,\u001b[0m\u001b[0;36m40\u001b[0m\u001b[0;34m]\u001b[0m\u001b[0;34m\u001b[0m\u001b[0;34m\u001b[0m\u001b[0m\n\u001b[1;32m      5\u001b[0m \u001b[0mlist2\u001b[0m\u001b[0;34m=\u001b[0m\u001b[0;34m[\u001b[0m\u001b[0;36m5\u001b[0m\u001b[0;34m,\u001b[0m\u001b[0;36m10\u001b[0m\u001b[0;34m,\u001b[0m\u001b[0;36m15\u001b[0m\u001b[0;34m]\u001b[0m\u001b[0;34m\u001b[0m\u001b[0;34m\u001b[0m\u001b[0m\n",
            "\u001b[0;31mTypeError\u001b[0m: 'list' object is not callable"
          ]
        }
      ],
      "source": [
        "#wap to demonstrate list intersection and union\n",
        "def list_intersection(list1,list2):\n",
        "  return list(set(list1) & set(list2))\n",
        "list1=[10,10,20,40]\n",
        "list2=[5,10,15]\n",
        "print(\"Intersection:\",list_intersection(list1,list2))\n",
        "\n",
        "def list_union(list1,list2):\n",
        "  return list(set(list1) | set(list2))\n",
        "list1=[10,10,20,40]\n",
        "list2=[5,10,15]\n",
        "print(\"Union:\",list_union(list1,list2))"
      ]
    },
    {
      "cell_type": "code",
      "execution_count": null,
      "metadata": {
        "colab": {
          "base_uri": "https://localhost:8080/"
        },
        "id": "r6HLctEtst8S",
        "outputId": "67783578-1674-4798-a1ef-6246803a4375"
      },
      "outputs": [
        {
          "name": "stdout",
          "output_type": "stream",
          "text": [
            "First List: [1, 3, 5, 7, 9]\n",
            "Second List: [2, 4, 6, 8, 10]\n",
            "Merged Sorted List; [1, 2, 3, 4, 5, 6, 7, 8, 9, 10]\n"
          ]
        }
      ],
      "source": [
        "#wap to merge 2 sorted lists into a single sorted list\n",
        "list1=[1,3,5,7,9]\n",
        "list2=[2,4,6,8,10]\n",
        "m=[]\n",
        "i=j=0\n",
        "while (i<len(list1) and j<len(list2)):\n",
        "  if (list1[i]<list2[j]):\n",
        "    m.append(list1[i])\n",
        "    i=i+1\n",
        "  else:\n",
        "    m.append(list2[j])\n",
        "    j=j+1\n",
        "m.extend(list1[i:])\n",
        "m.extend(list2[j:])\n",
        "print(\"First List:\",list1)\n",
        "print(\"Second List:\",list2)\n",
        "print(\"Merged Sorted List;\",m)"
      ]
    },
    {
      "cell_type": "code",
      "execution_count": null,
      "metadata": {
        "colab": {
          "base_uri": "https://localhost:8080/"
        },
        "id": "Z36EArpYw2gE",
        "outputId": "379711f2-122e-4dc5-c59a-8a0434c58375"
      },
      "outputs": [
        {
          "name": "stdout",
          "output_type": "stream",
          "text": [
            "Partitioned list: [3, 1, 1, 2, 4, 5, 9, 6, 5]\n"
          ]
        }
      ],
      "source": [
        "#WAP to partition a list around a given value\n",
        "def partition_list(lst,pivot):\n",
        "  less_than=[x for x in lst if x<pivot]\n",
        "  equal_to=[x for x in lst if x==pivot]\n",
        "  greater_than=[x for x in lst if x>pivot]\n",
        "  return less_than + equal_to + greater_than\n",
        "\n",
        "my_list=[3,1,4,1,5,9,2,6,5]\n",
        "pivot_value=4\n",
        "print(\"Partitioned list:\",partition_list(my_list,pivot_value))"
      ]
    },
    {
      "cell_type": "code",
      "execution_count": null,
      "metadata": {
        "colab": {
          "base_uri": "https://localhost:8080/"
        },
        "id": "UnG8hp9iaUHT",
        "outputId": "2a6afe8b-5ebf-4a11-9a13-7c383ba28bb7"
      },
      "outputs": [
        {
          "output_type": "stream",
          "name": "stdout",
          "text": [
            "Largest subarray sum: 6\n"
          ]
        }
      ],
      "source": [
        "#\n",
        "def largest_sub_array_sum(lst):\n",
        "  max_sum=current_sum=lst[0]\n",
        "\n",
        "  for num in lst[1:]:\n",
        "    current_sum=max(num,current_sum+num)\n",
        "    max_sum=max(max_sum,current_sum)\n",
        "  return max_sum\n",
        "\n",
        "my_list=[-2,1,-3,4,-1,2,1,-5,4]\n",
        "print(\"Largest subarray sum:\",largest_sub_array_sum(my_list))"
      ]
    },
    {
      "cell_type": "code",
      "execution_count": null,
      "metadata": {
        "id": "2UwZUeMsiGXl",
        "colab": {
          "base_uri": "https://localhost:8080/"
        },
        "outputId": "aa85f466-3906-4f85-a7c5-f56de50a526b"
      },
      "outputs": [
        {
          "output_type": "stream",
          "name": "stdout",
          "text": [
            "Peak element index: 5\n"
          ]
        }
      ],
      "source": [
        "#peak element\n",
        "def find_peak_element(nums):\n",
        "  if not nums:\n",
        "    return None\n",
        "  left,right=0,len(nums)-1\n",
        "  while left<right:\n",
        "    mid=left+(right-left)//2\n",
        "    if nums[mid]<nums[mid+1]:\n",
        "      left=mid+1\n",
        "    else:\n",
        "      right=mid\n",
        "  return left\n",
        "my_list=[1,2,1,3,5,6,4]\n",
        "print(\"Peak element index:\",find_peak_element(my_list))"
      ]
    },
    {
      "cell_type": "code",
      "source": [],
      "metadata": {
        "id": "4_Ot3d3XrI2S"
      },
      "execution_count": null,
      "outputs": []
    }
  ],
  "metadata": {
    "colab": {
      "provenance": [],
      "authorship_tag": "ABX9TyNcH4lvVUtkyxq5luLfbgmN",
      "include_colab_link": true
    },
    "kernelspec": {
      "display_name": "Python 3",
      "name": "python3"
    },
    "language_info": {
      "name": "python"
    }
  },
  "nbformat": 4,
  "nbformat_minor": 0
}