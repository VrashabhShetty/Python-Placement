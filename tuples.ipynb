{
  "nbformat": 4,
  "nbformat_minor": 0,
  "metadata": {
    "colab": {
      "provenance": [],
      "authorship_tag": "ABX9TyM33E3MptG+JVXKQY1y2pQ2",
      "include_colab_link": true
    },
    "kernelspec": {
      "name": "python3",
      "display_name": "Python 3"
    },
    "language_info": {
      "name": "python"
    }
  },
  "cells": [
    {
      "cell_type": "markdown",
      "metadata": {
        "id": "view-in-github",
        "colab_type": "text"
      },
      "source": [
        "<a href=\"https://colab.research.google.com/github/VrashabhShetty/Python-Placement/blob/main/tuples.ipynb\" target=\"_parent\"><img src=\"https://colab.research.google.com/assets/colab-badge.svg\" alt=\"Open In Colab\"/></a>"
      ]
    },
    {
      "cell_type": "code",
      "execution_count": null,
      "metadata": {
        "id": "mbM7bbTy4gzO"
      },
      "outputs": [],
      "source": [
        "def create_tuples():\n",
        "  tuple1=(1,2,3,4,5)\n",
        "  tuple2=('a','b','c','d','e')\n",
        "  tuple3=(\"apple\",\"banana\",\"cherry\")\n",
        "  return tuple1,tuple2,tuple3\n",
        "\n",
        "def access_tuple_items(tuple1,tuple2):\n",
        "  #Accessing tuple items using positive and negative\n",
        "  print(\"Tuple 1:\",tuple1)\n",
        "  print(\"First element of tuple1:\",tuple1[0])\n",
        "  print(\"Last element of tuple1:\",tuple1[-1])\n",
        "  print(\"Tuple 2:\",tuple2)\n",
        "  print(\"Second element of tuple2:\",tuple2[1])\n",
        "  print(\"Secind Last element of tuple2:\",tuple2[-2])\n",
        "  print(tuple2[0:5])\n",
        "\n",
        "def unpacking_tuple1(tuple3):\n",
        "  #Unpacking a tuple\n",
        "  (green, yellow, red)=tuple3\n",
        "  print(green)\n",
        "  print(yellow)\n",
        "  print(red)\n",
        "\n",
        "def unpacking_tuple2(fruits):\n",
        "  #Unpacking of tuples using *\n",
        "  fruits=(\"apple\",\"banana\",\"cherry\",\"strawberry\",\"raspberry\")\n",
        "  (green,yellow,*red)=fruits\n",
        "  print(green)\n",
        "  print(yellow)\n",
        "  print(red)\n",
        "\n",
        "def change_tuples(tuple1, tuple2):\n",
        "  #Change tuple values\n",
        "  list1=list(tuple1)\n",
        "  list2=list(tuple2)\n",
        "  list1.append(6)\n",
        "  list2.remove('c')\n",
        "  tuple1=tuple(list1)\n",
        "  tuple2=tuple(list2)\n",
        "  return tuple1, tuple2\n",
        "\n",
        "def loop_through_tuples(tuple1, tuple2):\n",
        "  #Loop through tuples\n",
        "  for x in tuple1:\n",
        "    print(x)\n",
        "  for x in tuple2:\n",
        "    print(x)\n",
        "\n",
        "def join_tuples(tuple1, tuple2):\n",
        "  #Join two tuples\n",
        "  tuple3=tuple1+tuple2\n",
        "  return tuple3\n"
      ]
    },
    {
      "cell_type": "code",
      "source": [
        "my_tuple=(1,2,3)\n",
        "another_tuple=tuple([4,5,6])\n",
        "print(my_tuple[0])\n",
        "print(another_tuple[-1])\n",
        "print(my_tuple[1:3])\n",
        "combined_tuple=my_tuple+another_tuple\n",
        "print(combined_tuple)\n",
        "repeated_tuple=my_tuple*3\n",
        "print(repeated_tuple)\n",
        "print(2 in my_tuple)\n",
        "print(4 not in my_tuple)\n",
        "print(len(my_tuple))\n",
        "for item in my_tuple:\n",
        "  print(item)\n",
        "string_to_tuple=tuple(\"hello\")\n",
        "print(string_to_tuple)\n",
        "list_to_tuple=tuple([1,2,3])\n",
        "print(list_to_tuple)\n",
        "print(my_tuple.count(2))\n",
        "print(my_tuple.index(3))"
      ],
      "metadata": {
        "colab": {
          "base_uri": "https://localhost:8080/"
        },
        "id": "Dn11PV8w5T_4",
        "outputId": "b6d9252b-7243-4b7c-ed8a-e0bcb8f7a377"
      },
      "execution_count": null,
      "outputs": [
        {
          "output_type": "stream",
          "name": "stdout",
          "text": [
            "1\n",
            "6\n",
            "(2, 3)\n",
            "(1, 2, 3, 4, 5, 6)\n",
            "(1, 2, 3, 1, 2, 3, 1, 2, 3)\n",
            "True\n",
            "True\n",
            "3\n",
            "1\n",
            "2\n",
            "3\n",
            "('h', 'e', 'l', 'l', 'o')\n",
            "(1, 2, 3)\n",
            "1\n",
            "2\n"
          ]
        }
      ]
    },
    {
      "cell_type": "code",
      "source": [
        "tuples_of_tuples=((1,'apple'),(3,'orange'),(2,'banana'))\n",
        "sorted_tuples=sorted(tuples_of_tuples, key=lambda x:x[1])\n",
        "print(sorted_tuples)"
      ],
      "metadata": {
        "colab": {
          "base_uri": "https://localhost:8080/"
        },
        "id": "gFPWHpEH-pyD",
        "outputId": "497ca5fe-44d3-41c7-e906-5fb797b96f8a"
      },
      "execution_count": null,
      "outputs": [
        {
          "output_type": "stream",
          "name": "stdout",
          "text": [
            "[(1, 'apple'), (2, 'banana'), (3, 'orange')]\n"
          ]
        }
      ]
    },
    {
      "cell_type": "code",
      "source": [
        "#tuple comprehension to create a tuple of squares\n",
        "squares_tuple=tuple(x**2 for x in range(1,6))\n",
        "print(\"Squares tuple:\",squares_tuple)"
      ],
      "metadata": {
        "colab": {
          "base_uri": "https://localhost:8080/"
        },
        "id": "a711j2HfCutZ",
        "outputId": "f64d7517-e90d-4b02-cc1e-ea2438f996db"
      },
      "execution_count": null,
      "outputs": [
        {
          "output_type": "stream",
          "name": "stdout",
          "text": [
            "Squares tuple: (1, 4, 9, 16, 25)\n"
          ]
        }
      ]
    },
    {
      "cell_type": "code",
      "source": [
        "#Zipping up of tuples\n",
        "l1=[1,2,3]\n",
        "l2=['a', 'b', 'c']\n",
        "zipped_tuple=tuple(zip(l1,l2))\n",
        "print(\"Zipped tuple:\",zipped_tuple)\n"
      ],
      "metadata": {
        "colab": {
          "base_uri": "https://localhost:8080/"
        },
        "id": "RkkszySFEAJz",
        "outputId": "74ad080f-87c5-4824-cb93-35c4c1c7f264"
      },
      "execution_count": null,
      "outputs": [
        {
          "output_type": "stream",
          "name": "stdout",
          "text": [
            "Zipped tuple: ((1, 'a'), (2, 'b'), (3, 'c'))\n"
          ]
        }
      ]
    },
    {
      "cell_type": "code",
      "source": [
        "from collections import namedtuple\n",
        "import math\n",
        "\n",
        "#define a named tuple for coordinates\n",
        "point=namedtuple('Point',['x','y'])\n",
        "\n",
        "#Create 2 points\n",
        "p1=point(1,2)\n",
        "p2=point(3,4)\n",
        "\n",
        "#calculate the distance between the points\n",
        "distance=math.sqrt((p2.x-p1.x)**2+(p2.y-p1.y)**2)\n",
        "print(distance)"
      ],
      "metadata": {
        "colab": {
          "base_uri": "https://localhost:8080/"
        },
        "id": "xaaaQPIsEM3L",
        "outputId": "48932bad-7f14-4547-8933-3e31024a3567"
      },
      "execution_count": null,
      "outputs": [
        {
          "output_type": "stream",
          "name": "stdout",
          "text": [
            "2.8284271247461903\n"
          ]
        }
      ]
    },
    {
      "cell_type": "code",
      "source": [
        "#Filter Tuple\n",
        "original_tuple=(1,2,3,4,5)\n",
        "filtered_tuple=tuple(filter(lambda x:x%2==0,original_tuple))\n",
        "print(filtered_tuple)"
      ],
      "metadata": {
        "colab": {
          "base_uri": "https://localhost:8080/"
        },
        "id": "t8O0eCK6GxuW",
        "outputId": "e5e3c2d4-7317-4f23-d3e3-7335e919a170"
      },
      "execution_count": null,
      "outputs": [
        {
          "output_type": "stream",
          "name": "stdout",
          "text": [
            "(2, 4)\n"
          ]
        }
      ]
    },
    {
      "cell_type": "code",
      "source": [
        "from functools import reduce\n",
        "def add(x,y):\n",
        "  return x+y\n",
        "\n",
        "original_tuple=(1,2,3,4,5)\n",
        "result=reduce(add,original_tuple)\n",
        "print(result)"
      ],
      "metadata": {
        "colab": {
          "base_uri": "https://localhost:8080/"
        },
        "id": "As-eVvJeITCU",
        "outputId": "ba6a4fa1-eef7-4153-f63e-285ad6308562"
      },
      "execution_count": null,
      "outputs": [
        {
          "output_type": "stream",
          "name": "stdout",
          "text": [
            "15\n"
          ]
        }
      ]
    },
    {
      "cell_type": "code",
      "source": [],
      "metadata": {
        "id": "KQpqlcc_cZwy"
      },
      "execution_count": null,
      "outputs": []
    }
  ]
}